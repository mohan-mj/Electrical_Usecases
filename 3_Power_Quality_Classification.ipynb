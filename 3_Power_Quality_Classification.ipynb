{
 "cells": [
  {
   "cell_type": "markdown",
   "id": "patent-bennett",
   "metadata": {
    "papermill": {
     "duration": 0.0291,
     "end_time": "2021-04-18T12:25:32.265264",
     "exception": false,
     "start_time": "2021-04-18T12:25:32.236164",
     "status": "completed"
    },
    "tags": []
   },
   "source": [
    "# Power Quality Classification using CNN"
   ]
  },
  {
   "cell_type": "markdown",
   "id": "common-victor",
   "metadata": {
    "papermill": {
     "duration": 0.027574,
     "end_time": "2021-04-18T12:25:32.320412",
     "exception": false,
     "start_time": "2021-04-18T12:25:32.292838",
     "status": "completed"
    },
    "tags": []
   },
   "source": [
    "This notebook focusses on developing a Convolutional Neural Network which classifies a particular power signal into its respective power quality condition. The dataset used here contains signals which belong to one of the 6 classes(power quality condition). This means that each signal is characterized by 256 data points. Here the signals provided are in time domain."
   ]
  },
  {
   "cell_type": "code",
   "execution_count": 1,
   "id": "apart-today",
   "metadata": {
    "execution": {
     "iopub.execute_input": "2021-04-18T12:25:32.385068Z",
     "iopub.status.busy": "2021-04-18T12:25:32.384376Z",
     "iopub.status.idle": "2021-04-18T12:25:40.334962Z",
     "shell.execute_reply": "2021-04-18T12:25:40.334211Z"
    },
    "papermill": {
     "duration": 7.985643,
     "end_time": "2021-04-18T12:25:40.335154",
     "exception": false,
     "start_time": "2021-04-18T12:25:32.349511",
     "status": "completed"
    },
    "tags": []
   },
   "outputs": [],
   "source": [
    "#importing the required libraries\n",
    "import matplotlib.pyplot as plt\n",
    "import pandas as pd\n",
    "import numpy as np\n",
    "import datetime\n",
    "from scipy.fft import fft,fftfreq\n",
    "from scipy import signal\n",
    "from sklearn.preprocessing import StandardScaler\n",
    "from tensorflow.keras.models import Sequential\n",
    "from tensorflow.keras.layers import Dense, Dropout, Activation\n",
    "from tensorflow.keras.optimizers import Adam"
   ]
  },
  {
   "cell_type": "code",
   "execution_count": 2,
   "id": "electoral-subdivision",
   "metadata": {
    "execution": {
     "iopub.execute_input": "2021-04-18T12:25:40.399809Z",
     "iopub.status.busy": "2021-04-18T12:25:40.398899Z",
     "iopub.status.idle": "2021-04-18T12:25:41.783182Z",
     "shell.execute_reply": "2021-04-18T12:25:41.782004Z"
    },
    "papermill": {
     "duration": 1.41913,
     "end_time": "2021-04-18T12:25:41.783405",
     "exception": false,
     "start_time": "2021-04-18T12:25:40.364275",
     "status": "completed"
    },
    "tags": []
   },
   "outputs": [],
   "source": [
    "#loading the dataset using pandas\n",
    "x_train = pd.read_csv(\"datasets/power_quality/VoltageL1Train.csv\")\n",
    "y_train = pd.read_csv(\"datasets/power_quality/outputTrain.csv\")\n",
    "x_test = pd.read_csv(\"datasets/power_quality/VoltageL1Test.csv\")\n",
    "y_test = pd.read_csv(\"datasets/power_quality/outputTest.csv\")"
   ]
  },
  {
   "cell_type": "code",
   "execution_count": 3,
   "id": "overall-merchant",
   "metadata": {
    "execution": {
     "iopub.execute_input": "2021-04-18T12:25:41.849563Z",
     "iopub.status.busy": "2021-04-18T12:25:41.848799Z",
     "iopub.status.idle": "2021-04-18T12:25:41.853065Z",
     "shell.execute_reply": "2021-04-18T12:25:41.854092Z"
    },
    "papermill": {
     "duration": 0.042039,
     "end_time": "2021-04-18T12:25:41.854476",
     "exception": false,
     "start_time": "2021-04-18T12:25:41.812437",
     "status": "completed"
    },
    "tags": []
   },
   "outputs": [
    {
     "name": "stdout",
     "output_type": "stream",
     "text": [
      "x_train (5999, 256)\n",
      "y_train (5999, 1)\n",
      "x_test (3599, 256)\n",
      "y_test (3599, 1)\n"
     ]
    }
   ],
   "source": [
    "print(\"x_train\",x_train.shape)\n",
    "print(\"y_train\",y_train.shape)\n",
    "print(\"x_test\",x_test.shape)\n",
    "print(\"y_test\",y_test.shape)"
   ]
  },
  {
   "cell_type": "markdown",
   "id": "mediterranean-potato",
   "metadata": {
    "papermill": {
     "duration": 0.029854,
     "end_time": "2021-04-18T12:25:41.915452",
     "exception": false,
     "start_time": "2021-04-18T12:25:41.885598",
     "status": "completed"
    },
    "tags": []
   },
   "source": [
    "## Data Preprocessing"
   ]
  },
  {
   "cell_type": "markdown",
   "id": "meaning-dispatch",
   "metadata": {
    "papermill": {
     "duration": 0.030325,
     "end_time": "2021-04-18T12:25:41.975996",
     "exception": false,
     "start_time": "2021-04-18T12:25:41.945671",
     "status": "completed"
    },
    "tags": []
   },
   "source": [
    "This segment of notebook contains all the preprocessing steps which are performed on the data."
   ]
  },
  {
   "cell_type": "code",
   "execution_count": 4,
   "id": "unsigned-bryan",
   "metadata": {
    "execution": {
     "iopub.execute_input": "2021-04-18T12:25:42.041220Z",
     "iopub.status.busy": "2021-04-18T12:25:42.040489Z",
     "iopub.status.idle": "2021-04-18T12:25:42.108466Z",
     "shell.execute_reply": "2021-04-18T12:25:42.107696Z"
    },
    "papermill": {
     "duration": 0.103612,
     "end_time": "2021-04-18T12:25:42.108632",
     "exception": false,
     "start_time": "2021-04-18T12:25:42.005020",
     "status": "completed"
    },
    "tags": []
   },
   "outputs": [],
   "source": [
    "#dropna() function is used to remove all those rows which contains NA values\n",
    "x_train.dropna(axis=0,inplace=True)\n",
    "y_train.dropna(axis=0,inplace=True)\n",
    "x_test.dropna(axis=0,inplace=True)\n",
    "y_test.dropna(axis=0,inplace=True)"
   ]
  },
  {
   "cell_type": "code",
   "execution_count": 5,
   "id": "informational-excuse",
   "metadata": {
    "execution": {
     "iopub.execute_input": "2021-04-18T12:25:42.175969Z",
     "iopub.status.busy": "2021-04-18T12:25:42.175117Z",
     "iopub.status.idle": "2021-04-18T12:25:42.181217Z",
     "shell.execute_reply": "2021-04-18T12:25:42.182031Z"
    },
    "papermill": {
     "duration": 0.042623,
     "end_time": "2021-04-18T12:25:42.182284",
     "exception": false,
     "start_time": "2021-04-18T12:25:42.139661",
     "status": "completed"
    },
    "tags": []
   },
   "outputs": [
    {
     "name": "stdout",
     "output_type": "stream",
     "text": [
      "x_train (5999, 256)\n",
      "y_train (5999, 1)\n",
      "x_test (3599, 256)\n",
      "y_test (3599, 1)\n"
     ]
    }
   ],
   "source": [
    "#shape of the data frames after dropping the rows containing NA values\n",
    "print(\"x_train\",x_train.shape)\n",
    "print(\"y_train\",y_train.shape)\n",
    "print(\"x_test\",x_test.shape)\n",
    "print(\"y_test\",y_test.shape)"
   ]
  },
  {
   "cell_type": "code",
   "execution_count": 6,
   "id": "thrown-catholic",
   "metadata": {
    "execution": {
     "iopub.execute_input": "2021-04-18T12:25:42.251107Z",
     "iopub.status.busy": "2021-04-18T12:25:42.250280Z",
     "iopub.status.idle": "2021-04-18T12:25:42.253704Z",
     "shell.execute_reply": "2021-04-18T12:25:42.253034Z"
    },
    "papermill": {
     "duration": 0.040807,
     "end_time": "2021-04-18T12:25:42.254207",
     "exception": false,
     "start_time": "2021-04-18T12:25:42.213400",
     "status": "completed"
    },
    "tags": []
   },
   "outputs": [],
   "source": [
    "#here we are constructing the array which will finally contain the column names\n",
    "header =[]\n",
    "for i in range(1,x_train.shape[1]+1):\n",
    "    header.append(\"Col\"+str(i))"
   ]
  },
  {
   "cell_type": "code",
   "execution_count": 7,
   "id": "looking-confidence",
   "metadata": {
    "execution": {
     "iopub.execute_input": "2021-04-18T12:25:42.322577Z",
     "iopub.status.busy": "2021-04-18T12:25:42.321665Z",
     "iopub.status.idle": "2021-04-18T12:25:42.324457Z",
     "shell.execute_reply": "2021-04-18T12:25:42.324974Z"
    },
    "papermill": {
     "duration": 0.039588,
     "end_time": "2021-04-18T12:25:42.325190",
     "exception": false,
     "start_time": "2021-04-18T12:25:42.285602",
     "status": "completed"
    },
    "tags": []
   },
   "outputs": [],
   "source": [
    "#assigning the column name array to the respectinve dataframes\n",
    "x_train.columns = header\n",
    "x_test.columns = header"
   ]
  },
  {
   "cell_type": "code",
   "execution_count": 8,
   "id": "geological-choir",
   "metadata": {
    "execution": {
     "iopub.execute_input": "2021-04-18T12:25:42.392988Z",
     "iopub.status.busy": "2021-04-18T12:25:42.391975Z",
     "iopub.status.idle": "2021-04-18T12:25:42.395847Z",
     "shell.execute_reply": "2021-04-18T12:25:42.395317Z"
    },
    "papermill": {
     "duration": 0.040826,
     "end_time": "2021-04-18T12:25:42.395997",
     "exception": false,
     "start_time": "2021-04-18T12:25:42.355171",
     "status": "completed"
    },
    "tags": []
   },
   "outputs": [],
   "source": [
    "#assinging the column name for the y_train and y_test\n",
    "header = [\"output\"]\n",
    "y_train.columns = header\n",
    "y_test.columns = header"
   ]
  },
  {
   "cell_type": "code",
   "execution_count": 9,
   "id": "falling-doctrine",
   "metadata": {
    "execution": {
     "iopub.execute_input": "2021-04-18T12:25:42.475076Z",
     "iopub.status.busy": "2021-04-18T12:25:42.474353Z",
     "iopub.status.idle": "2021-04-18T12:25:42.515564Z",
     "shell.execute_reply": "2021-04-18T12:25:42.514918Z"
    },
    "papermill": {
     "duration": 0.087043,
     "end_time": "2021-04-18T12:25:42.515737",
     "exception": false,
     "start_time": "2021-04-18T12:25:42.428694",
     "status": "completed"
    },
    "tags": []
   },
   "outputs": [
    {
     "data": {
      "text/html": [
       "<div>\n",
       "<style scoped>\n",
       "    .dataframe tbody tr th:only-of-type {\n",
       "        vertical-align: middle;\n",
       "    }\n",
       "\n",
       "    .dataframe tbody tr th {\n",
       "        vertical-align: top;\n",
       "    }\n",
       "\n",
       "    .dataframe thead th {\n",
       "        text-align: right;\n",
       "    }\n",
       "</style>\n",
       "<table border=\"1\" class=\"dataframe\">\n",
       "  <thead>\n",
       "    <tr style=\"text-align: right;\">\n",
       "      <th></th>\n",
       "      <th>Col1</th>\n",
       "      <th>Col2</th>\n",
       "      <th>Col3</th>\n",
       "      <th>Col4</th>\n",
       "      <th>Col5</th>\n",
       "      <th>Col6</th>\n",
       "      <th>Col7</th>\n",
       "      <th>Col8</th>\n",
       "      <th>Col9</th>\n",
       "      <th>Col10</th>\n",
       "      <th>...</th>\n",
       "      <th>Col247</th>\n",
       "      <th>Col248</th>\n",
       "      <th>Col249</th>\n",
       "      <th>Col250</th>\n",
       "      <th>Col251</th>\n",
       "      <th>Col252</th>\n",
       "      <th>Col253</th>\n",
       "      <th>Col254</th>\n",
       "      <th>Col255</th>\n",
       "      <th>Col256</th>\n",
       "    </tr>\n",
       "  </thead>\n",
       "  <tbody>\n",
       "    <tr>\n",
       "      <th>0</th>\n",
       "      <td>573.652486</td>\n",
       "      <td>1003.343736</td>\n",
       "      <td>1588.404525</td>\n",
       "      <td>2317.576741</td>\n",
       "      <td>2804.364311</td>\n",
       "      <td>3225.322510</td>\n",
       "      <td>3662.821690</td>\n",
       "      <td>4174.627969</td>\n",
       "      <td>4656.244143</td>\n",
       "      <td>4939.070130</td>\n",
       "      <td>...</td>\n",
       "      <td>-4650.282434</td>\n",
       "      <td>-4228.581226</td>\n",
       "      <td>-3865.609932</td>\n",
       "      <td>-3395.654756</td>\n",
       "      <td>-2933.680470</td>\n",
       "      <td>-2322.450904</td>\n",
       "      <td>-1841.562453</td>\n",
       "      <td>-1282.042025</td>\n",
       "      <td>-601.968217</td>\n",
       "      <td>-156.848367</td>\n",
       "    </tr>\n",
       "    <tr>\n",
       "      <th>1</th>\n",
       "      <td>4757.365183</td>\n",
       "      <td>5264.598912</td>\n",
       "      <td>5428.642486</td>\n",
       "      <td>5650.413073</td>\n",
       "      <td>5939.710012</td>\n",
       "      <td>5911.948067</td>\n",
       "      <td>6147.642171</td>\n",
       "      <td>6076.921501</td>\n",
       "      <td>5958.797444</td>\n",
       "      <td>6053.817701</td>\n",
       "      <td>...</td>\n",
       "      <td>-280.360872</td>\n",
       "      <td>323.325836</td>\n",
       "      <td>861.103019</td>\n",
       "      <td>1415.929276</td>\n",
       "      <td>2007.692919</td>\n",
       "      <td>2561.130303</td>\n",
       "      <td>2960.282598</td>\n",
       "      <td>3619.932691</td>\n",
       "      <td>4008.288701</td>\n",
       "      <td>4422.229911</td>\n",
       "    </tr>\n",
       "    <tr>\n",
       "      <th>2</th>\n",
       "      <td>4242.144824</td>\n",
       "      <td>4644.679402</td>\n",
       "      <td>5013.356532</td>\n",
       "      <td>5229.417051</td>\n",
       "      <td>5534.898007</td>\n",
       "      <td>5797.190678</td>\n",
       "      <td>5930.658682</td>\n",
       "      <td>5960.014599</td>\n",
       "      <td>6055.336310</td>\n",
       "      <td>6103.707793</td>\n",
       "      <td>...</td>\n",
       "      <td>-1256.270585</td>\n",
       "      <td>-616.527428</td>\n",
       "      <td>-67.068193</td>\n",
       "      <td>549.016676</td>\n",
       "      <td>1099.652199</td>\n",
       "      <td>1697.572166</td>\n",
       "      <td>2239.961604</td>\n",
       "      <td>2776.876479</td>\n",
       "      <td>3248.638662</td>\n",
       "      <td>3807.665149</td>\n",
       "    </tr>\n",
       "    <tr>\n",
       "      <th>3</th>\n",
       "      <td>2077.819247</td>\n",
       "      <td>2561.679246</td>\n",
       "      <td>3085.653813</td>\n",
       "      <td>3545.905160</td>\n",
       "      <td>4023.421592</td>\n",
       "      <td>4496.705157</td>\n",
       "      <td>4809.079868</td>\n",
       "      <td>5186.298840</td>\n",
       "      <td>5453.627533</td>\n",
       "      <td>5737.354699</td>\n",
       "      <td>...</td>\n",
       "      <td>-3557.345152</td>\n",
       "      <td>-3017.951179</td>\n",
       "      <td>-2596.647329</td>\n",
       "      <td>-1996.266675</td>\n",
       "      <td>-1467.203661</td>\n",
       "      <td>-885.101101</td>\n",
       "      <td>-329.685256</td>\n",
       "      <td>304.222722</td>\n",
       "      <td>935.528504</td>\n",
       "      <td>1460.127297</td>\n",
       "    </tr>\n",
       "    <tr>\n",
       "      <th>4</th>\n",
       "      <td>3599.645319</td>\n",
       "      <td>4099.944762</td>\n",
       "      <td>4499.282469</td>\n",
       "      <td>4897.875855</td>\n",
       "      <td>5120.077118</td>\n",
       "      <td>5402.227743</td>\n",
       "      <td>5694.801362</td>\n",
       "      <td>5928.683099</td>\n",
       "      <td>5981.616502</td>\n",
       "      <td>6052.006904</td>\n",
       "      <td>...</td>\n",
       "      <td>-2020.240712</td>\n",
       "      <td>-1388.704968</td>\n",
       "      <td>-849.731284</td>\n",
       "      <td>-232.632694</td>\n",
       "      <td>341.406093</td>\n",
       "      <td>854.579135</td>\n",
       "      <td>1528.023058</td>\n",
       "      <td>2002.557438</td>\n",
       "      <td>2576.468343</td>\n",
       "      <td>3036.303600</td>\n",
       "    </tr>\n",
       "  </tbody>\n",
       "</table>\n",
       "<p>5 rows × 256 columns</p>\n",
       "</div>"
      ],
      "text/plain": [
       "          Col1         Col2         Col3         Col4         Col5  \\\n",
       "0   573.652486  1003.343736  1588.404525  2317.576741  2804.364311   \n",
       "1  4757.365183  5264.598912  5428.642486  5650.413073  5939.710012   \n",
       "2  4242.144824  4644.679402  5013.356532  5229.417051  5534.898007   \n",
       "3  2077.819247  2561.679246  3085.653813  3545.905160  4023.421592   \n",
       "4  3599.645319  4099.944762  4499.282469  4897.875855  5120.077118   \n",
       "\n",
       "          Col6         Col7         Col8         Col9        Col10  ...  \\\n",
       "0  3225.322510  3662.821690  4174.627969  4656.244143  4939.070130  ...   \n",
       "1  5911.948067  6147.642171  6076.921501  5958.797444  6053.817701  ...   \n",
       "2  5797.190678  5930.658682  5960.014599  6055.336310  6103.707793  ...   \n",
       "3  4496.705157  4809.079868  5186.298840  5453.627533  5737.354699  ...   \n",
       "4  5402.227743  5694.801362  5928.683099  5981.616502  6052.006904  ...   \n",
       "\n",
       "        Col247       Col248       Col249       Col250       Col251  \\\n",
       "0 -4650.282434 -4228.581226 -3865.609932 -3395.654756 -2933.680470   \n",
       "1  -280.360872   323.325836   861.103019  1415.929276  2007.692919   \n",
       "2 -1256.270585  -616.527428   -67.068193   549.016676  1099.652199   \n",
       "3 -3557.345152 -3017.951179 -2596.647329 -1996.266675 -1467.203661   \n",
       "4 -2020.240712 -1388.704968  -849.731284  -232.632694   341.406093   \n",
       "\n",
       "        Col252       Col253       Col254       Col255       Col256  \n",
       "0 -2322.450904 -1841.562453 -1282.042025  -601.968217  -156.848367  \n",
       "1  2561.130303  2960.282598  3619.932691  4008.288701  4422.229911  \n",
       "2  1697.572166  2239.961604  2776.876479  3248.638662  3807.665149  \n",
       "3  -885.101101  -329.685256   304.222722   935.528504  1460.127297  \n",
       "4   854.579135  1528.023058  2002.557438  2576.468343  3036.303600  \n",
       "\n",
       "[5 rows x 256 columns]"
      ]
     },
     "execution_count": 9,
     "metadata": {},
     "output_type": "execute_result"
    }
   ],
   "source": [
    "x_train.head()"
   ]
  },
  {
   "cell_type": "code",
   "execution_count": 10,
   "id": "completed-allen",
   "metadata": {
    "execution": {
     "iopub.execute_input": "2021-04-18T12:25:42.607291Z",
     "iopub.status.busy": "2021-04-18T12:25:42.591373Z",
     "iopub.status.idle": "2021-04-18T12:25:42.612821Z",
     "shell.execute_reply": "2021-04-18T12:25:42.613337Z"
    },
    "papermill": {
     "duration": 0.067013,
     "end_time": "2021-04-18T12:25:42.613549",
     "exception": false,
     "start_time": "2021-04-18T12:25:42.546536",
     "status": "completed"
    },
    "tags": []
   },
   "outputs": [
    {
     "data": {
      "text/html": [
       "<div>\n",
       "<style scoped>\n",
       "    .dataframe tbody tr th:only-of-type {\n",
       "        vertical-align: middle;\n",
       "    }\n",
       "\n",
       "    .dataframe tbody tr th {\n",
       "        vertical-align: top;\n",
       "    }\n",
       "\n",
       "    .dataframe thead th {\n",
       "        text-align: right;\n",
       "    }\n",
       "</style>\n",
       "<table border=\"1\" class=\"dataframe\">\n",
       "  <thead>\n",
       "    <tr style=\"text-align: right;\">\n",
       "      <th></th>\n",
       "      <th>Col1</th>\n",
       "      <th>Col2</th>\n",
       "      <th>Col3</th>\n",
       "      <th>Col4</th>\n",
       "      <th>Col5</th>\n",
       "      <th>Col6</th>\n",
       "      <th>Col7</th>\n",
       "      <th>Col8</th>\n",
       "      <th>Col9</th>\n",
       "      <th>Col10</th>\n",
       "      <th>...</th>\n",
       "      <th>Col247</th>\n",
       "      <th>Col248</th>\n",
       "      <th>Col249</th>\n",
       "      <th>Col250</th>\n",
       "      <th>Col251</th>\n",
       "      <th>Col252</th>\n",
       "      <th>Col253</th>\n",
       "      <th>Col254</th>\n",
       "      <th>Col255</th>\n",
       "      <th>Col256</th>\n",
       "    </tr>\n",
       "  </thead>\n",
       "  <tbody>\n",
       "    <tr>\n",
       "      <th>0</th>\n",
       "      <td>4216.164293</td>\n",
       "      <td>4550.919227</td>\n",
       "      <td>4885.253969</td>\n",
       "      <td>5265.577080</td>\n",
       "      <td>5634.058181</td>\n",
       "      <td>5690.878844</td>\n",
       "      <td>5984.805444</td>\n",
       "      <td>6083.124480</td>\n",
       "      <td>6024.018340</td>\n",
       "      <td>6144.339029</td>\n",
       "      <td>...</td>\n",
       "      <td>-1279.720481</td>\n",
       "      <td>-672.204610</td>\n",
       "      <td>-35.247405</td>\n",
       "      <td>565.001817</td>\n",
       "      <td>1139.580709</td>\n",
       "      <td>1623.258946</td>\n",
       "      <td>2159.189259</td>\n",
       "      <td>2729.066018</td>\n",
       "      <td>3292.437301</td>\n",
       "      <td>3770.985050</td>\n",
       "    </tr>\n",
       "    <tr>\n",
       "      <th>1</th>\n",
       "      <td>795.638794</td>\n",
       "      <td>1340.736614</td>\n",
       "      <td>1928.805243</td>\n",
       "      <td>2465.916079</td>\n",
       "      <td>3009.942949</td>\n",
       "      <td>3475.153730</td>\n",
       "      <td>3938.568022</td>\n",
       "      <td>4372.781654</td>\n",
       "      <td>4765.603003</td>\n",
       "      <td>5090.817748</td>\n",
       "      <td>...</td>\n",
       "      <td>-4525.083123</td>\n",
       "      <td>-4077.498908</td>\n",
       "      <td>-3630.262875</td>\n",
       "      <td>-3176.648183</td>\n",
       "      <td>-2652.563485</td>\n",
       "      <td>-2135.982927</td>\n",
       "      <td>-1549.968773</td>\n",
       "      <td>-970.063115</td>\n",
       "      <td>-413.973048</td>\n",
       "      <td>202.507328</td>\n",
       "    </tr>\n",
       "    <tr>\n",
       "      <th>2</th>\n",
       "      <td>1220.943267</td>\n",
       "      <td>1770.550513</td>\n",
       "      <td>2318.816674</td>\n",
       "      <td>2850.186275</td>\n",
       "      <td>3357.786987</td>\n",
       "      <td>3848.017230</td>\n",
       "      <td>4274.339651</td>\n",
       "      <td>4669.175893</td>\n",
       "      <td>5027.840955</td>\n",
       "      <td>5329.856655</td>\n",
       "      <td>...</td>\n",
       "      <td>-4214.790563</td>\n",
       "      <td>-3762.024055</td>\n",
       "      <td>-3303.182589</td>\n",
       "      <td>-2802.950592</td>\n",
       "      <td>-2246.516780</td>\n",
       "      <td>-1712.153266</td>\n",
       "      <td>-1120.729328</td>\n",
       "      <td>-553.276475</td>\n",
       "      <td>43.863168</td>\n",
       "      <td>614.870963</td>\n",
       "    </tr>\n",
       "    <tr>\n",
       "      <th>3</th>\n",
       "      <td>1013.772210</td>\n",
       "      <td>1621.783618</td>\n",
       "      <td>2178.146635</td>\n",
       "      <td>2733.460484</td>\n",
       "      <td>3178.151416</td>\n",
       "      <td>3692.797702</td>\n",
       "      <td>4177.895304</td>\n",
       "      <td>4539.640464</td>\n",
       "      <td>4948.873847</td>\n",
       "      <td>5271.862849</td>\n",
       "      <td>...</td>\n",
       "      <td>-4371.401183</td>\n",
       "      <td>-3937.075334</td>\n",
       "      <td>-3502.317297</td>\n",
       "      <td>-2922.179500</td>\n",
       "      <td>-2467.320667</td>\n",
       "      <td>-1904.033355</td>\n",
       "      <td>-1362.385474</td>\n",
       "      <td>-704.032900</td>\n",
       "      <td>-188.518269</td>\n",
       "      <td>466.064827</td>\n",
       "    </tr>\n",
       "    <tr>\n",
       "      <th>4</th>\n",
       "      <td>4490.355896</td>\n",
       "      <td>4862.601717</td>\n",
       "      <td>5235.681699</td>\n",
       "      <td>5401.432840</td>\n",
       "      <td>5741.255908</td>\n",
       "      <td>5840.507807</td>\n",
       "      <td>6030.352157</td>\n",
       "      <td>6037.480783</td>\n",
       "      <td>6109.355580</td>\n",
       "      <td>6000.190091</td>\n",
       "      <td>...</td>\n",
       "      <td>-848.410798</td>\n",
       "      <td>-279.507713</td>\n",
       "      <td>269.777288</td>\n",
       "      <td>853.806015</td>\n",
       "      <td>1410.187144</td>\n",
       "      <td>1977.999116</td>\n",
       "      <td>2621.735468</td>\n",
       "      <td>3069.781180</td>\n",
       "      <td>3624.993700</td>\n",
       "      <td>4116.325633</td>\n",
       "    </tr>\n",
       "  </tbody>\n",
       "</table>\n",
       "<p>5 rows × 256 columns</p>\n",
       "</div>"
      ],
      "text/plain": [
       "          Col1         Col2         Col3         Col4         Col5  \\\n",
       "0  4216.164293  4550.919227  4885.253969  5265.577080  5634.058181   \n",
       "1   795.638794  1340.736614  1928.805243  2465.916079  3009.942949   \n",
       "2  1220.943267  1770.550513  2318.816674  2850.186275  3357.786987   \n",
       "3  1013.772210  1621.783618  2178.146635  2733.460484  3178.151416   \n",
       "4  4490.355896  4862.601717  5235.681699  5401.432840  5741.255908   \n",
       "\n",
       "          Col6         Col7         Col8         Col9        Col10  ...  \\\n",
       "0  5690.878844  5984.805444  6083.124480  6024.018340  6144.339029  ...   \n",
       "1  3475.153730  3938.568022  4372.781654  4765.603003  5090.817748  ...   \n",
       "2  3848.017230  4274.339651  4669.175893  5027.840955  5329.856655  ...   \n",
       "3  3692.797702  4177.895304  4539.640464  4948.873847  5271.862849  ...   \n",
       "4  5840.507807  6030.352157  6037.480783  6109.355580  6000.190091  ...   \n",
       "\n",
       "        Col247       Col248       Col249       Col250       Col251  \\\n",
       "0 -1279.720481  -672.204610   -35.247405   565.001817  1139.580709   \n",
       "1 -4525.083123 -4077.498908 -3630.262875 -3176.648183 -2652.563485   \n",
       "2 -4214.790563 -3762.024055 -3303.182589 -2802.950592 -2246.516780   \n",
       "3 -4371.401183 -3937.075334 -3502.317297 -2922.179500 -2467.320667   \n",
       "4  -848.410798  -279.507713   269.777288   853.806015  1410.187144   \n",
       "\n",
       "        Col252       Col253       Col254       Col255       Col256  \n",
       "0  1623.258946  2159.189259  2729.066018  3292.437301  3770.985050  \n",
       "1 -2135.982927 -1549.968773  -970.063115  -413.973048   202.507328  \n",
       "2 -1712.153266 -1120.729328  -553.276475    43.863168   614.870963  \n",
       "3 -1904.033355 -1362.385474  -704.032900  -188.518269   466.064827  \n",
       "4  1977.999116  2621.735468  3069.781180  3624.993700  4116.325633  \n",
       "\n",
       "[5 rows x 256 columns]"
      ]
     },
     "execution_count": 10,
     "metadata": {},
     "output_type": "execute_result"
    }
   ],
   "source": [
    "x_test.head()"
   ]
  },
  {
   "cell_type": "code",
   "execution_count": 11,
   "id": "frozen-departure",
   "metadata": {
    "execution": {
     "iopub.execute_input": "2021-04-18T12:25:42.688304Z",
     "iopub.status.busy": "2021-04-18T12:25:42.687543Z",
     "iopub.status.idle": "2021-04-18T12:25:42.693534Z",
     "shell.execute_reply": "2021-04-18T12:25:42.692991Z"
    },
    "papermill": {
     "duration": 0.046849,
     "end_time": "2021-04-18T12:25:42.693672",
     "exception": false,
     "start_time": "2021-04-18T12:25:42.646823",
     "status": "completed"
    },
    "tags": []
   },
   "outputs": [
    {
     "data": {
      "text/html": [
       "<div>\n",
       "<style scoped>\n",
       "    .dataframe tbody tr th:only-of-type {\n",
       "        vertical-align: middle;\n",
       "    }\n",
       "\n",
       "    .dataframe tbody tr th {\n",
       "        vertical-align: top;\n",
       "    }\n",
       "\n",
       "    .dataframe thead th {\n",
       "        text-align: right;\n",
       "    }\n",
       "</style>\n",
       "<table border=\"1\" class=\"dataframe\">\n",
       "  <thead>\n",
       "    <tr style=\"text-align: right;\">\n",
       "      <th></th>\n",
       "      <th>output</th>\n",
       "    </tr>\n",
       "  </thead>\n",
       "  <tbody>\n",
       "    <tr>\n",
       "      <th>0</th>\n",
       "      <td>1</td>\n",
       "    </tr>\n",
       "    <tr>\n",
       "      <th>1</th>\n",
       "      <td>1</td>\n",
       "    </tr>\n",
       "    <tr>\n",
       "      <th>2</th>\n",
       "      <td>1</td>\n",
       "    </tr>\n",
       "    <tr>\n",
       "      <th>3</th>\n",
       "      <td>1</td>\n",
       "    </tr>\n",
       "    <tr>\n",
       "      <th>4</th>\n",
       "      <td>1</td>\n",
       "    </tr>\n",
       "  </tbody>\n",
       "</table>\n",
       "</div>"
      ],
      "text/plain": [
       "   output\n",
       "0       1\n",
       "1       1\n",
       "2       1\n",
       "3       1\n",
       "4       1"
      ]
     },
     "execution_count": 11,
     "metadata": {},
     "output_type": "execute_result"
    }
   ],
   "source": [
    "y_train.head()"
   ]
  },
  {
   "cell_type": "code",
   "execution_count": 12,
   "id": "contained-clearance",
   "metadata": {
    "execution": {
     "iopub.execute_input": "2021-04-18T12:25:42.765995Z",
     "iopub.status.busy": "2021-04-18T12:25:42.765137Z",
     "iopub.status.idle": "2021-04-18T12:25:42.770915Z",
     "shell.execute_reply": "2021-04-18T12:25:42.770276Z"
    },
    "papermill": {
     "duration": 0.045965,
     "end_time": "2021-04-18T12:25:42.771056",
     "exception": false,
     "start_time": "2021-04-18T12:25:42.725091",
     "status": "completed"
    },
    "tags": []
   },
   "outputs": [
    {
     "data": {
      "text/html": [
       "<div>\n",
       "<style scoped>\n",
       "    .dataframe tbody tr th:only-of-type {\n",
       "        vertical-align: middle;\n",
       "    }\n",
       "\n",
       "    .dataframe tbody tr th {\n",
       "        vertical-align: top;\n",
       "    }\n",
       "\n",
       "    .dataframe thead th {\n",
       "        text-align: right;\n",
       "    }\n",
       "</style>\n",
       "<table border=\"1\" class=\"dataframe\">\n",
       "  <thead>\n",
       "    <tr style=\"text-align: right;\">\n",
       "      <th></th>\n",
       "      <th>output</th>\n",
       "    </tr>\n",
       "  </thead>\n",
       "  <tbody>\n",
       "    <tr>\n",
       "      <th>0</th>\n",
       "      <td>1</td>\n",
       "    </tr>\n",
       "    <tr>\n",
       "      <th>1</th>\n",
       "      <td>1</td>\n",
       "    </tr>\n",
       "    <tr>\n",
       "      <th>2</th>\n",
       "      <td>1</td>\n",
       "    </tr>\n",
       "    <tr>\n",
       "      <th>3</th>\n",
       "      <td>1</td>\n",
       "    </tr>\n",
       "    <tr>\n",
       "      <th>4</th>\n",
       "      <td>1</td>\n",
       "    </tr>\n",
       "  </tbody>\n",
       "</table>\n",
       "</div>"
      ],
      "text/plain": [
       "   output\n",
       "0       1\n",
       "1       1\n",
       "2       1\n",
       "3       1\n",
       "4       1"
      ]
     },
     "execution_count": 12,
     "metadata": {},
     "output_type": "execute_result"
    }
   ],
   "source": [
    "y_test.head()"
   ]
  },
  {
   "cell_type": "code",
   "execution_count": 13,
   "id": "reverse-length",
   "metadata": {
    "execution": {
     "iopub.execute_input": "2021-04-18T12:25:42.841668Z",
     "iopub.status.busy": "2021-04-18T12:25:42.841002Z",
     "iopub.status.idle": "2021-04-18T12:25:42.941204Z",
     "shell.execute_reply": "2021-04-18T12:25:42.940589Z"
    },
    "papermill": {
     "duration": 0.137576,
     "end_time": "2021-04-18T12:25:42.941411",
     "exception": false,
     "start_time": "2021-04-18T12:25:42.803835",
     "status": "completed"
    },
    "tags": []
   },
   "outputs": [],
   "source": [
    "#further splitting the train dataset to train and validation\n",
    "from sklearn.model_selection import train_test_split\n",
    "x_train, x_val, y_train, y_val = train_test_split(x_train, y_train, test_size=0.20, random_state=42)"
   ]
  },
  {
   "cell_type": "code",
   "execution_count": 14,
   "id": "opening-candle",
   "metadata": {
    "execution": {
     "iopub.execute_input": "2021-04-18T12:25:43.017223Z",
     "iopub.status.busy": "2021-04-18T12:25:43.016551Z",
     "iopub.status.idle": "2021-04-18T12:25:43.023158Z",
     "shell.execute_reply": "2021-04-18T12:25:43.022383Z"
    },
    "papermill": {
     "duration": 0.04926,
     "end_time": "2021-04-18T12:25:43.023324",
     "exception": false,
     "start_time": "2021-04-18T12:25:42.974064",
     "status": "completed"
    },
    "tags": []
   },
   "outputs": [
    {
     "name": "stdout",
     "output_type": "stream",
     "text": [
      "x_train (4799, 256)\n",
      "y_train (4799, 1)\n",
      "x_val (1200, 256)\n",
      "y_val (1200, 1)\n",
      "x_test (3599, 256)\n",
      "y_test (3599, 1)\n"
     ]
    }
   ],
   "source": [
    "print('x_train',x_train.shape)\n",
    "print('y_train',y_train.shape)\n",
    "print('x_val',x_val.shape)\n",
    "print('y_val',y_val.shape)\n",
    "print('x_test',x_test.shape)\n",
    "print('y_test',y_test.shape)"
   ]
  },
  {
   "cell_type": "code",
   "execution_count": 15,
   "id": "literary-teaching",
   "metadata": {
    "execution": {
     "iopub.execute_input": "2021-04-18T12:25:43.098350Z",
     "iopub.status.busy": "2021-04-18T12:25:43.097211Z",
     "iopub.status.idle": "2021-04-18T12:25:43.106431Z",
     "shell.execute_reply": "2021-04-18T12:25:43.105792Z"
    },
    "papermill": {
     "duration": 0.050552,
     "end_time": "2021-04-18T12:25:43.106606",
     "exception": false,
     "start_time": "2021-04-18T12:25:43.056054",
     "status": "completed"
    },
    "tags": []
   },
   "outputs": [],
   "source": [
    "# get_dummies function is used here to perform one hot encoding of the y_* numpy arrays\n",
    "y_train_hot = pd.get_dummies(y_train['output'])\n",
    "y_test_hot = pd.get_dummies(y_test['output'])\n",
    "y_val_hot = pd.get_dummies(y_val['output'])"
   ]
  },
  {
   "cell_type": "code",
   "execution_count": 16,
   "id": "after-identifier",
   "metadata": {
    "execution": {
     "iopub.execute_input": "2021-04-18T12:25:43.186804Z",
     "iopub.status.busy": "2021-04-18T12:25:43.182969Z",
     "iopub.status.idle": "2021-04-18T12:25:43.192569Z",
     "shell.execute_reply": "2021-04-18T12:25:43.191981Z"
    },
    "papermill": {
     "duration": 0.052434,
     "end_time": "2021-04-18T12:25:43.192718",
     "exception": false,
     "start_time": "2021-04-18T12:25:43.140284",
     "status": "completed"
    },
    "tags": []
   },
   "outputs": [
    {
     "data": {
      "text/html": [
       "<div>\n",
       "<style scoped>\n",
       "    .dataframe tbody tr th:only-of-type {\n",
       "        vertical-align: middle;\n",
       "    }\n",
       "\n",
       "    .dataframe tbody tr th {\n",
       "        vertical-align: top;\n",
       "    }\n",
       "\n",
       "    .dataframe thead th {\n",
       "        text-align: right;\n",
       "    }\n",
       "</style>\n",
       "<table border=\"1\" class=\"dataframe\">\n",
       "  <thead>\n",
       "    <tr style=\"text-align: right;\">\n",
       "      <th></th>\n",
       "      <th>1</th>\n",
       "      <th>2</th>\n",
       "      <th>3</th>\n",
       "      <th>4</th>\n",
       "      <th>5</th>\n",
       "      <th>6</th>\n",
       "    </tr>\n",
       "  </thead>\n",
       "  <tbody>\n",
       "    <tr>\n",
       "      <th>5627</th>\n",
       "      <td>0</td>\n",
       "      <td>0</td>\n",
       "      <td>0</td>\n",
       "      <td>0</td>\n",
       "      <td>0</td>\n",
       "      <td>1</td>\n",
       "    </tr>\n",
       "    <tr>\n",
       "      <th>1755</th>\n",
       "      <td>0</td>\n",
       "      <td>1</td>\n",
       "      <td>0</td>\n",
       "      <td>0</td>\n",
       "      <td>0</td>\n",
       "      <td>0</td>\n",
       "    </tr>\n",
       "    <tr>\n",
       "      <th>2344</th>\n",
       "      <td>0</td>\n",
       "      <td>0</td>\n",
       "      <td>1</td>\n",
       "      <td>0</td>\n",
       "      <td>0</td>\n",
       "      <td>0</td>\n",
       "    </tr>\n",
       "    <tr>\n",
       "      <th>4283</th>\n",
       "      <td>0</td>\n",
       "      <td>0</td>\n",
       "      <td>0</td>\n",
       "      <td>0</td>\n",
       "      <td>1</td>\n",
       "      <td>0</td>\n",
       "    </tr>\n",
       "    <tr>\n",
       "      <th>3034</th>\n",
       "      <td>0</td>\n",
       "      <td>0</td>\n",
       "      <td>0</td>\n",
       "      <td>1</td>\n",
       "      <td>0</td>\n",
       "      <td>0</td>\n",
       "    </tr>\n",
       "  </tbody>\n",
       "</table>\n",
       "</div>"
      ],
      "text/plain": [
       "      1  2  3  4  5  6\n",
       "5627  0  0  0  0  0  1\n",
       "1755  0  1  0  0  0  0\n",
       "2344  0  0  1  0  0  0\n",
       "4283  0  0  0  0  1  0\n",
       "3034  0  0  0  1  0  0"
      ]
     },
     "execution_count": 16,
     "metadata": {},
     "output_type": "execute_result"
    }
   ],
   "source": [
    "y_train_hot.head()"
   ]
  },
  {
   "cell_type": "code",
   "execution_count": 17,
   "id": "unauthorized-lotus",
   "metadata": {
    "execution": {
     "iopub.execute_input": "2021-04-18T12:25:43.268145Z",
     "iopub.status.busy": "2021-04-18T12:25:43.267425Z",
     "iopub.status.idle": "2021-04-18T12:25:43.274907Z",
     "shell.execute_reply": "2021-04-18T12:25:43.275413Z"
    },
    "papermill": {
     "duration": 0.048957,
     "end_time": "2021-04-18T12:25:43.275619",
     "exception": false,
     "start_time": "2021-04-18T12:25:43.226662",
     "status": "completed"
    },
    "tags": []
   },
   "outputs": [
    {
     "name": "stdout",
     "output_type": "stream",
     "text": [
      "y_train: (4799, 6)\n",
      "y_test: (3599, 6)\n",
      "y_val: (1200, 6)\n"
     ]
    }
   ],
   "source": [
    "y_train_arr = y_train_hot.to_numpy()\n",
    "y_test_arr = y_test_hot.to_numpy()\n",
    "y_val_arr = y_val_hot.to_numpy()\n",
    "print(\"y_train:\",y_train_arr.shape)\n",
    "print(\"y_test:\",y_test_arr.shape)\n",
    "print(\"y_val:\",y_val_arr.shape)\n",
    "no_of_classes = y_train_arr.shape[1]"
   ]
  },
  {
   "cell_type": "markdown",
   "id": "empirical-unknown",
   "metadata": {
    "papermill": {
     "duration": 0.035429,
     "end_time": "2021-04-18T12:25:43.346040",
     "exception": false,
     "start_time": "2021-04-18T12:25:43.310611",
     "status": "completed"
    },
    "tags": []
   },
   "source": [
    "### Data transformation"
   ]
  },
  {
   "cell_type": "markdown",
   "id": "aggregate-vessel",
   "metadata": {
    "papermill": {
     "duration": 0.036064,
     "end_time": "2021-04-18T12:25:43.418743",
     "exception": false,
     "start_time": "2021-04-18T12:25:43.382679",
     "status": "completed"
    },
    "tags": []
   },
   "source": [
    "The data transformation steps employed here are as follows:<br>\n",
    "\n",
    "1) Fourier Transform<br>\n",
    "2) Normalization"
   ]
  },
  {
   "cell_type": "code",
   "execution_count": 18,
   "id": "wound-carroll",
   "metadata": {
    "execution": {
     "iopub.execute_input": "2021-04-18T12:25:43.497280Z",
     "iopub.status.busy": "2021-04-18T12:25:43.496548Z",
     "iopub.status.idle": "2021-04-18T12:25:43.498642Z",
     "shell.execute_reply": "2021-04-18T12:25:43.499207Z"
    },
    "papermill": {
     "duration": 0.042698,
     "end_time": "2021-04-18T12:25:43.499435",
     "exception": false,
     "start_time": "2021-04-18T12:25:43.456737",
     "status": "completed"
    },
    "tags": []
   },
   "outputs": [],
   "source": [
    "x_train_tr = x_train.to_numpy()\n",
    "x_test_tr = x_test.to_numpy()\n",
    "x_val_tr = x_val.to_numpy()"
   ]
  },
  {
   "cell_type": "code",
   "execution_count": 19,
   "id": "disciplinary-montana",
   "metadata": {
    "execution": {
     "iopub.execute_input": "2021-04-18T12:25:43.577398Z",
     "iopub.status.busy": "2021-04-18T12:25:43.576724Z",
     "iopub.status.idle": "2021-04-18T12:25:43.840316Z",
     "shell.execute_reply": "2021-04-18T12:25:43.839576Z"
    },
    "papermill": {
     "duration": 0.303969,
     "end_time": "2021-04-18T12:25:43.840477",
     "exception": false,
     "start_time": "2021-04-18T12:25:43.536508",
     "status": "completed"
    },
    "tags": []
   },
   "outputs": [],
   "source": [
    "for i in range(0,x_train.shape[0]):\n",
    "    x_train_tr[i][:] = np.abs(fft(x_train_tr[i][:]))\n",
    "    \n",
    "for i in range(0,x_test.shape[0]):\n",
    "    x_test_tr[i][:] = np.abs(fft(x_test_tr[i][:]))\n",
    "\n",
    "for i in range(0,x_val.shape[0]):\n",
    "    x_val_tr[i][:] = np.abs(fft(x_val_tr[i][:]))"
   ]
  },
  {
   "cell_type": "code",
   "execution_count": 20,
   "id": "alien-entry",
   "metadata": {
    "execution": {
     "iopub.execute_input": "2021-04-18T12:25:43.919989Z",
     "iopub.status.busy": "2021-04-18T12:25:43.919217Z",
     "iopub.status.idle": "2021-04-18T12:25:44.012475Z",
     "shell.execute_reply": "2021-04-18T12:25:44.011881Z"
    },
    "papermill": {
     "duration": 0.137235,
     "end_time": "2021-04-18T12:25:44.012660",
     "exception": false,
     "start_time": "2021-04-18T12:25:43.875425",
     "status": "completed"
    },
    "tags": []
   },
   "outputs": [],
   "source": [
    "transform = StandardScaler()\n",
    "x_train_tr = transform.fit_transform(x_train)\n",
    "x_test_tr = transform.fit_transform(x_test)\n",
    "x_val_tr = transform.fit_transform(x_val)"
   ]
  },
  {
   "cell_type": "code",
   "execution_count": 21,
   "id": "binary-windows",
   "metadata": {
    "execution": {
     "iopub.execute_input": "2021-04-18T12:25:44.095336Z",
     "iopub.status.busy": "2021-04-18T12:25:44.094460Z",
     "iopub.status.idle": "2021-04-18T12:25:44.102668Z",
     "shell.execute_reply": "2021-04-18T12:25:44.101991Z"
    },
    "papermill": {
     "duration": 0.054917,
     "end_time": "2021-04-18T12:25:44.102815",
     "exception": false,
     "start_time": "2021-04-18T12:25:44.047898",
     "status": "completed"
    },
    "tags": []
   },
   "outputs": [
    {
     "name": "stdout",
     "output_type": "stream",
     "text": [
      "Training (4799, 256)\n",
      "(4799, 6)\n",
      "Validation (1200, 256)\n",
      "(1200, 6)\n",
      "Test (3599, 256)\n",
      "(3599, 6)\n"
     ]
    }
   ],
   "source": [
    "print(\"Training\",x_train_tr.shape)\n",
    "print(y_train_arr.shape)\n",
    "print(\"Validation\",x_val_tr.shape)\n",
    "print(y_val_arr.shape)\n",
    "print(\"Test\",x_test_tr.shape)\n",
    "print(y_test_arr.shape)\n",
    "sampling_rate = x_train_tr.shape[1]"
   ]
  },
  {
   "cell_type": "markdown",
   "id": "interesting-publicity",
   "metadata": {
    "papermill": {
     "duration": 0.034656,
     "end_time": "2021-04-18T12:25:44.172386",
     "exception": false,
     "start_time": "2021-04-18T12:25:44.137730",
     "status": "completed"
    },
    "tags": []
   },
   "source": [
    "## Model creation and training"
   ]
  },
  {
   "cell_type": "code",
   "execution_count": 22,
   "id": "worldwide-reservation",
   "metadata": {
    "execution": {
     "iopub.execute_input": "2021-04-18T12:25:44.246158Z",
     "iopub.status.busy": "2021-04-18T12:25:44.245494Z",
     "iopub.status.idle": "2021-04-18T12:25:44.252080Z",
     "shell.execute_reply": "2021-04-18T12:25:44.252706Z"
    },
    "papermill": {
     "duration": 0.045673,
     "end_time": "2021-04-18T12:25:44.252878",
     "exception": false,
     "start_time": "2021-04-18T12:25:44.207205",
     "status": "completed"
    },
    "tags": []
   },
   "outputs": [],
   "source": [
    "#Reshaping the Data so that it could be used in 1D CNN\n",
    "x_train_re = x_train_tr.reshape(x_train_tr.shape[0],x_train_tr.shape[1], 1)\n",
    "x_test_re = x_test_tr.reshape(x_test_tr.shape[0],x_test_tr.shape[1], 1)\n",
    "x_val_re = x_val_tr.reshape(x_val_tr.shape[0],x_val_tr.shape[1], 1)"
   ]
  },
  {
   "cell_type": "code",
   "execution_count": 23,
   "id": "ideal-memorial",
   "metadata": {
    "execution": {
     "iopub.execute_input": "2021-04-18T12:25:44.330368Z",
     "iopub.status.busy": "2021-04-18T12:25:44.329467Z",
     "iopub.status.idle": "2021-04-18T12:25:44.336347Z",
     "shell.execute_reply": "2021-04-18T12:25:44.335576Z"
    },
    "papermill": {
     "duration": 0.048445,
     "end_time": "2021-04-18T12:25:44.336516",
     "exception": false,
     "start_time": "2021-04-18T12:25:44.288071",
     "status": "completed"
    },
    "tags": []
   },
   "outputs": [
    {
     "data": {
      "text/plain": [
       "(4799, 256, 1)"
      ]
     },
     "execution_count": 23,
     "metadata": {},
     "output_type": "execute_result"
    }
   ],
   "source": [
    "x_train_re.shape"
   ]
  },
  {
   "cell_type": "code",
   "execution_count": 24,
   "id": "future-recommendation",
   "metadata": {
    "execution": {
     "iopub.execute_input": "2021-04-18T12:25:44.421755Z",
     "iopub.status.busy": "2021-04-18T12:25:44.421019Z",
     "iopub.status.idle": "2021-04-18T12:25:44.425327Z",
     "shell.execute_reply": "2021-04-18T12:25:44.424629Z"
    },
    "papermill": {
     "duration": 0.050477,
     "end_time": "2021-04-18T12:25:44.425491",
     "exception": false,
     "start_time": "2021-04-18T12:25:44.375014",
     "status": "completed"
    },
    "tags": []
   },
   "outputs": [],
   "source": [
    "#importing required modules for working with CNN\n",
    "import tensorflow as tf\n",
    "from tensorflow.keras.layers import Conv1D\n",
    "from tensorflow.keras.layers import Convolution1D, ZeroPadding1D, MaxPooling1D, BatchNormalization, Activation, Dropout, Flatten, Dense\n",
    "from tensorflow.keras.regularizers import l2"
   ]
  },
  {
   "cell_type": "code",
   "execution_count": 25,
   "id": "everyday-anxiety",
   "metadata": {
    "execution": {
     "iopub.execute_input": "2021-04-18T12:25:44.506722Z",
     "iopub.status.busy": "2021-04-18T12:25:44.505861Z",
     "iopub.status.idle": "2021-04-18T12:25:44.509890Z",
     "shell.execute_reply": "2021-04-18T12:25:44.509178Z"
    },
    "papermill": {
     "duration": 0.046902,
     "end_time": "2021-04-18T12:25:44.510059",
     "exception": false,
     "start_time": "2021-04-18T12:25:44.463157",
     "status": "completed"
    },
    "tags": []
   },
   "outputs": [],
   "source": [
    "#initializing required parameters for the model\n",
    "batch_size = 64\n",
    "num_classes = 6\n",
    "epochs = 20\n",
    "input_shape=(x_train_tr.shape[1], 1)"
   ]
  },
  {
   "cell_type": "code",
   "execution_count": 26,
   "id": "breeding-poverty",
   "metadata": {
    "execution": {
     "iopub.execute_input": "2021-04-18T12:25:44.595789Z",
     "iopub.status.busy": "2021-04-18T12:25:44.595051Z",
     "iopub.status.idle": "2021-04-18T12:25:44.772873Z",
     "shell.execute_reply": "2021-04-18T12:25:44.771444Z"
    },
    "papermill": {
     "duration": 0.225019,
     "end_time": "2021-04-18T12:25:44.773086",
     "exception": false,
     "start_time": "2021-04-18T12:25:44.548067",
     "status": "completed"
    },
    "tags": []
   },
   "outputs": [],
   "source": [
    "model = Sequential()\n",
    "model.add(Conv1D(128, kernel_size=3,padding = 'same',activation='relu', input_shape=input_shape))\n",
    "model.add(BatchNormalization())\n",
    "model.add(MaxPooling1D(pool_size=(2)))\n",
    "model.add(Conv1D(128,kernel_size=3,padding = 'same', activation='relu'))\n",
    "model.add(BatchNormalization())\n",
    "model.add(MaxPooling1D(pool_size=(2)))\n",
    "model.add(Flatten())\n",
    "model.add(Dense(16, activation='relu'))\n",
    "model.add(Dense(num_classes, activation='softmax'))"
   ]
  },
  {
   "cell_type": "code",
   "execution_count": 27,
   "id": "residential-demonstration",
   "metadata": {
    "execution": {
     "iopub.execute_input": "2021-04-18T12:25:44.854705Z",
     "iopub.status.busy": "2021-04-18T12:25:44.853680Z",
     "iopub.status.idle": "2021-04-18T12:25:44.862931Z",
     "shell.execute_reply": "2021-04-18T12:25:44.862120Z"
    },
    "papermill": {
     "duration": 0.0532,
     "end_time": "2021-04-18T12:25:44.863116",
     "exception": false,
     "start_time": "2021-04-18T12:25:44.809916",
     "status": "completed"
    },
    "tags": []
   },
   "outputs": [
    {
     "name": "stdout",
     "output_type": "stream",
     "text": [
      "Model: \"sequential\"\n",
      "_________________________________________________________________\n",
      " Layer (type)                Output Shape              Param #   \n",
      "=================================================================\n",
      " conv1d (Conv1D)             (None, 256, 128)          512       \n",
      "                                                                 \n",
      " batch_normalization (BatchN  (None, 256, 128)         512       \n",
      " ormalization)                                                   \n",
      "                                                                 \n",
      " max_pooling1d (MaxPooling1D  (None, 128, 128)         0         \n",
      " )                                                               \n",
      "                                                                 \n",
      " conv1d_1 (Conv1D)           (None, 128, 128)          49280     \n",
      "                                                                 \n",
      " batch_normalization_1 (Batc  (None, 128, 128)         512       \n",
      " hNormalization)                                                 \n",
      "                                                                 \n",
      " max_pooling1d_1 (MaxPooling  (None, 64, 128)          0         \n",
      " 1D)                                                             \n",
      "                                                                 \n",
      " flatten (Flatten)           (None, 8192)              0         \n",
      "                                                                 \n",
      " dense (Dense)               (None, 16)                131088    \n",
      "                                                                 \n",
      " dense_1 (Dense)             (None, 6)                 102       \n",
      "                                                                 \n",
      "=================================================================\n",
      "Total params: 182,006\n",
      "Trainable params: 181,494\n",
      "Non-trainable params: 512\n",
      "_________________________________________________________________\n"
     ]
    }
   ],
   "source": [
    "model.summary()"
   ]
  },
  {
   "cell_type": "code",
   "execution_count": 28,
   "id": "canadian-hamburg",
   "metadata": {
    "execution": {
     "iopub.execute_input": "2021-04-18T12:25:44.964484Z",
     "iopub.status.busy": "2021-04-18T12:25:44.952211Z",
     "iopub.status.idle": "2021-04-18T12:25:44.969199Z",
     "shell.execute_reply": "2021-04-18T12:25:44.968422Z"
    },
    "papermill": {
     "duration": 0.067334,
     "end_time": "2021-04-18T12:25:44.969371",
     "exception": false,
     "start_time": "2021-04-18T12:25:44.902037",
     "status": "completed"
    },
    "tags": []
   },
   "outputs": [],
   "source": [
    "#compiling the model\n",
    "\n",
    "log_dir = \"logs2/fit/\" + datetime.datetime.now().strftime(\"%Y%m%d-%H%M%S\")\n",
    "tensorboard_callback = tf.keras.callbacks.TensorBoard(log_dir=log_dir, histogram_freq=1)\n",
    "\n",
    "model.compile(loss=tf.keras.losses.categorical_crossentropy,\n",
    "              optimizer='adam',\n",
    "              metrics=['accuracy'])"
   ]
  },
  {
   "cell_type": "code",
   "execution_count": 29,
   "id": "forbidden-jacksonville",
   "metadata": {
    "execution": {
     "iopub.execute_input": "2021-04-18T12:25:45.050648Z",
     "iopub.status.busy": "2021-04-18T12:25:45.049924Z",
     "iopub.status.idle": "2021-04-18T12:28:11.147660Z",
     "shell.execute_reply": "2021-04-18T12:28:11.146913Z"
    },
    "papermill": {
     "duration": 146.140991,
     "end_time": "2021-04-18T12:28:11.147835",
     "exception": false,
     "start_time": "2021-04-18T12:25:45.006844",
     "status": "completed"
    },
    "tags": []
   },
   "outputs": [
    {
     "name": "stdout",
     "output_type": "stream",
     "text": [
      "Epoch 1/20\n",
      "75/75 [==============================] - 21s 241ms/step - loss: 0.0924 - accuracy: 0.9742 - val_loss: 2.3065 - val_accuracy: 0.2817\n",
      "Epoch 2/20\n",
      "75/75 [==============================] - 23s 302ms/step - loss: 0.0060 - accuracy: 0.9983 - val_loss: 3.3850 - val_accuracy: 0.2792\n",
      "Epoch 3/20\n",
      "75/75 [==============================] - 27s 360ms/step - loss: 0.0026 - accuracy: 0.9992 - val_loss: 3.3559 - val_accuracy: 0.3600\n",
      "Epoch 4/20\n",
      "75/75 [==============================] - 20s 266ms/step - loss: 0.0023 - accuracy: 0.9992 - val_loss: 2.5105 - val_accuracy: 0.5483\n",
      "Epoch 5/20\n",
      "75/75 [==============================] - 18s 237ms/step - loss: 0.0026 - accuracy: 0.9992 - val_loss: 1.5498 - val_accuracy: 0.6675\n",
      "Epoch 6/20\n",
      "75/75 [==============================] - 21s 275ms/step - loss: 0.0013 - accuracy: 0.9996 - val_loss: 0.9248 - val_accuracy: 0.7467\n",
      "Epoch 7/20\n",
      "75/75 [==============================] - 21s 281ms/step - loss: 3.1791e-04 - accuracy: 0.9998 - val_loss: 0.2093 - val_accuracy: 0.9333\n",
      "Epoch 8/20\n",
      "75/75 [==============================] - 17s 221ms/step - loss: 1.5448e-04 - accuracy: 1.0000 - val_loss: 0.0135 - val_accuracy: 0.9958\n",
      "Epoch 9/20\n",
      "75/75 [==============================] - 15s 205ms/step - loss: 6.6699e-04 - accuracy: 0.9998 - val_loss: 0.0104 - val_accuracy: 0.9958\n",
      "Epoch 10/20\n",
      "75/75 [==============================] - 15s 207ms/step - loss: 0.0049 - accuracy: 0.9990 - val_loss: 0.0036 - val_accuracy: 0.9983\n",
      "Epoch 11/20\n",
      "75/75 [==============================] - 16s 215ms/step - loss: 7.0773e-04 - accuracy: 0.9996 - val_loss: 0.0062 - val_accuracy: 0.9992\n",
      "Epoch 12/20\n",
      "75/75 [==============================] - 18s 236ms/step - loss: 0.0012 - accuracy: 0.9994 - val_loss: 0.0013 - val_accuracy: 0.9992\n",
      "Epoch 13/20\n",
      "75/75 [==============================] - 20s 265ms/step - loss: 2.5727e-04 - accuracy: 1.0000 - val_loss: 0.0015 - val_accuracy: 0.9992\n",
      "Epoch 14/20\n",
      "75/75 [==============================] - 22s 293ms/step - loss: 1.3209e-04 - accuracy: 1.0000 - val_loss: 0.0016 - val_accuracy: 0.9992\n",
      "Epoch 15/20\n",
      "75/75 [==============================] - 21s 285ms/step - loss: 3.0841e-05 - accuracy: 1.0000 - val_loss: 0.0019 - val_accuracy: 0.9992\n",
      "Epoch 16/20\n",
      "75/75 [==============================] - 21s 284ms/step - loss: 1.8183e-05 - accuracy: 1.0000 - val_loss: 0.0025 - val_accuracy: 0.9992\n",
      "Epoch 17/20\n",
      "75/75 [==============================] - 22s 290ms/step - loss: 9.9170e-06 - accuracy: 1.0000 - val_loss: 0.0026 - val_accuracy: 0.9992\n",
      "Epoch 18/20\n",
      "75/75 [==============================] - 20s 259ms/step - loss: 3.5761e-05 - accuracy: 1.0000 - val_loss: 0.0043 - val_accuracy: 0.9992\n",
      "Epoch 19/20\n",
      "75/75 [==============================] - 19s 260ms/step - loss: 1.7768e-05 - accuracy: 1.0000 - val_loss: 0.0043 - val_accuracy: 0.9992\n",
      "Epoch 20/20\n",
      "75/75 [==============================] - 22s 294ms/step - loss: 1.4414e-05 - accuracy: 1.0000 - val_loss: 0.0043 - val_accuracy: 0.9992\n"
     ]
    }
   ],
   "source": [
    "#training the model\n",
    "history = model.fit(x_train_re, y_train_hot, batch_size=batch_size, epochs=epochs, validation_data=(x_val_re, y_val_hot), callbacks=[tensorboard_callback])\n"
   ]
  },
  {
   "cell_type": "code",
   "execution_count": 30,
   "id": "headed-arena",
   "metadata": {
    "execution": {
     "iopub.execute_input": "2021-04-18T12:28:12.161763Z",
     "iopub.status.busy": "2021-04-18T12:28:12.161047Z",
     "iopub.status.idle": "2021-04-18T12:28:17.713814Z",
     "shell.execute_reply": "2021-04-18T12:28:17.714602Z"
    },
    "papermill": {
     "duration": 6.07438,
     "end_time": "2021-04-18T12:28:17.714905",
     "exception": false,
     "start_time": "2021-04-18T12:28:11.640525",
     "status": "completed"
    },
    "tags": []
   },
   "outputs": [],
   "source": [
    "# %load_ext tensorboard\n",
    "# %tensorboard --logdir logs2/fit"
   ]
  },
  {
   "cell_type": "code",
   "execution_count": 31,
   "id": "dimensional-calibration",
   "metadata": {
    "execution": {
     "iopub.execute_input": "2021-04-18T12:28:18.764673Z",
     "iopub.status.busy": "2021-04-18T12:28:18.763758Z",
     "iopub.status.idle": "2021-04-18T12:28:18.768931Z",
     "shell.execute_reply": "2021-04-18T12:28:18.768007Z"
    },
    "papermill": {
     "duration": 0.527306,
     "end_time": "2021-04-18T12:28:18.769149",
     "exception": false,
     "start_time": "2021-04-18T12:28:18.241843",
     "status": "completed"
    },
    "tags": []
   },
   "outputs": [
    {
     "name": "stdout",
     "output_type": "stream",
     "text": [
      "['loss', 'accuracy']\n"
     ]
    }
   ],
   "source": [
    "print(model.metrics_names)"
   ]
  },
  {
   "cell_type": "markdown",
   "id": "psychological-neighbor",
   "metadata": {
    "papermill": {
     "duration": 0.511572,
     "end_time": "2021-04-18T12:28:19.801343",
     "exception": false,
     "start_time": "2021-04-18T12:28:19.289771",
     "status": "completed"
    },
    "tags": []
   },
   "source": [
    "## Model evaluation"
   ]
  },
  {
   "cell_type": "code",
   "execution_count": 32,
   "id": "unlimited-finland",
   "metadata": {
    "execution": {
     "iopub.execute_input": "2021-04-18T12:28:20.857455Z",
     "iopub.status.busy": "2021-04-18T12:28:20.856608Z",
     "iopub.status.idle": "2021-04-18T12:28:20.860450Z",
     "shell.execute_reply": "2021-04-18T12:28:20.859725Z"
    },
    "papermill": {
     "duration": 0.542012,
     "end_time": "2021-04-18T12:28:20.860652",
     "exception": false,
     "start_time": "2021-04-18T12:28:20.318640",
     "status": "completed"
    },
    "tags": []
   },
   "outputs": [
    {
     "name": "stdout",
     "output_type": "stream",
     "text": [
      "min val: 0.27916666865348816\n",
      "avg val 0.8399166703224182\n",
      "max val: 0.9991666674613953\n",
      "\n",
      "min train: 0.9741612672805786\n",
      "avg train 0.9983538210391998\n",
      "max train: 1.0\n"
     ]
    }
   ],
   "source": [
    "print(\"min val:\",min(history.history['val_accuracy']))\n",
    "print(\"avg val\",np.mean(history.history['val_accuracy']) )\n",
    "print(\"max val:\",max(history.history['val_accuracy']))\n",
    "print()\n",
    "print(\"min train:\",min(history.history['accuracy']))\n",
    "print(\"avg train\",np.mean(history.history['accuracy']) )\n",
    "print(\"max train:\",max(history.history['accuracy']))"
   ]
  },
  {
   "cell_type": "code",
   "execution_count": 33,
   "id": "hired-furniture",
   "metadata": {
    "execution": {
     "iopub.execute_input": "2021-04-18T12:28:21.969144Z",
     "iopub.status.busy": "2021-04-18T12:28:21.968109Z",
     "iopub.status.idle": "2021-04-18T12:28:23.449493Z",
     "shell.execute_reply": "2021-04-18T12:28:23.448848Z"
    },
    "papermill": {
     "duration": 1.992887,
     "end_time": "2021-04-18T12:28:23.449676",
     "exception": false,
     "start_time": "2021-04-18T12:28:21.456789",
     "status": "completed"
    },
    "tags": []
   },
   "outputs": [
    {
     "name": "stdout",
     "output_type": "stream",
     "text": [
      "113/113 [==============================] - 4s 35ms/step - loss: 0.0143 - accuracy: 0.9975\n",
      "Test accuracy is [0.014303125441074371, 0.9974992871284485]\n"
     ]
    }
   ],
   "source": [
    "pred_acc = model.evaluate(x_test_re,y_test_hot)\n",
    "print(\"Test accuracy is {}\".format(pred_acc))"
   ]
  },
  {
   "cell_type": "code",
   "execution_count": 34,
   "id": "sticky-collins",
   "metadata": {
    "execution": {
     "iopub.execute_input": "2021-04-18T12:28:24.485552Z",
     "iopub.status.busy": "2021-04-18T12:28:24.484878Z",
     "iopub.status.idle": "2021-04-18T12:28:24.592767Z",
     "shell.execute_reply": "2021-04-18T12:28:24.591579Z"
    },
    "papermill": {
     "duration": 0.63922,
     "end_time": "2021-04-18T12:28:24.592950",
     "exception": false,
     "start_time": "2021-04-18T12:28:23.953730",
     "status": "completed"
    },
    "tags": []
   },
   "outputs": [],
   "source": [
    "from sklearn.metrics import confusion_matrix\n",
    "import seaborn as sn"
   ]
  },
  {
   "cell_type": "code",
   "execution_count": 35,
   "id": "atmospheric-spanking",
   "metadata": {
    "execution": {
     "iopub.execute_input": "2021-04-18T12:28:25.644835Z",
     "iopub.status.busy": "2021-04-18T12:28:25.643738Z",
     "iopub.status.idle": "2021-04-18T12:28:27.161957Z",
     "shell.execute_reply": "2021-04-18T12:28:27.162513Z"
    },
    "papermill": {
     "duration": 2.046301,
     "end_time": "2021-04-18T12:28:27.162734",
     "exception": false,
     "start_time": "2021-04-18T12:28:25.116433",
     "status": "completed"
    },
    "tags": []
   },
   "outputs": [
    {
     "name": "stdout",
     "output_type": "stream",
     "text": [
      "113/113 [==============================] - 4s 30ms/step\n"
     ]
    }
   ],
   "source": [
    "array = confusion_matrix(y_test_hot.to_numpy().argmax(axis=1), model.predict(x_test_re).argmax(axis=1))"
   ]
  },
  {
   "cell_type": "code",
   "execution_count": 36,
   "id": "musical-running",
   "metadata": {
    "execution": {
     "iopub.execute_input": "2021-04-18T12:28:28.181647Z",
     "iopub.status.busy": "2021-04-18T12:28:28.180769Z",
     "iopub.status.idle": "2021-04-18T12:28:28.189018Z",
     "shell.execute_reply": "2021-04-18T12:28:28.188142Z"
    },
    "papermill": {
     "duration": 0.517688,
     "end_time": "2021-04-18T12:28:28.189201",
     "exception": false,
     "start_time": "2021-04-18T12:28:27.671513",
     "status": "completed"
    },
    "tags": []
   },
   "outputs": [
    {
     "data": {
      "text/plain": [
       "array([[597,   0,   2,   0,   0,   0],\n",
       "       [  0, 599,   0,   0,   0,   1],\n",
       "       [  6,   0, 594,   0,   0,   0],\n",
       "       [  0,   0,   0, 600,   0,   0],\n",
       "       [  0,   0,   0,   0, 600,   0],\n",
       "       [  0,   0,   0,   0,   0, 600]], dtype=int64)"
      ]
     },
     "execution_count": 36,
     "metadata": {},
     "output_type": "execute_result"
    }
   ],
   "source": [
    "array"
   ]
  },
  {
   "cell_type": "code",
   "execution_count": 37,
   "id": "clear-occupation",
   "metadata": {
    "execution": {
     "iopub.execute_input": "2021-04-18T12:28:29.306809Z",
     "iopub.status.busy": "2021-04-18T12:28:29.303852Z",
     "iopub.status.idle": "2021-04-18T12:28:29.748839Z",
     "shell.execute_reply": "2021-04-18T12:28:29.747831Z"
    },
    "papermill": {
     "duration": 0.998068,
     "end_time": "2021-04-18T12:28:29.749008",
     "exception": false,
     "start_time": "2021-04-18T12:28:28.750940",
     "status": "completed"
    },
    "tags": []
   },
   "outputs": [
    {
     "data": {
      "text/plain": [
       "<AxesSubplot:>"
      ]
     },
     "execution_count": 37,
     "metadata": {},
     "output_type": "execute_result"
    },
    {
     "data": {
      "image/png": "[encoded data removed]",
      "text/plain": [
       "<Figure size 936x648 with 2 Axes>"
      ]
     },
     "metadata": {
      "needs_background": "light"
     },
     "output_type": "display_data"
    }
   ],
   "source": [
    "to_cm = pd.DataFrame(array, index = [i for i in [\"Type-1\",\"Type-2\",\"Type-3\",\"Type-4\",\"Type-5\",\"Type-6\"]],\n",
    "                  columns = [i for i in [\"Type-1\",\"Type-2\",\"Type-3\",\"Type-4\",\"Type-5\",\"Type-6\"]])\n",
    "plt.figure(figsize = (13,9))\n",
    "sn.heatmap(to_cm, annot=True)"
   ]
  }
 ],
 "metadata": {
  "kernelspec": {
   "display_name": "Python 3.9.13 ('electrical-Nm72NE7F-py3.9')",
   "language": "python",
   "name": "python3"
  },
  "language_info": {
   "codemirror_mode": {
    "name": "ipython",
    "version": 3
   },
   "file_extension": ".py",
   "mimetype": "text/x-python",
   "name": "python",
   "nbconvert_exporter": "python",
   "pygments_lexer": "ipython3",
   "version": "3.9.13"
  },
  "papermill": {
   "default_parameters": {},
   "duration": 187.3775,
   "end_time": "2021-04-18T12:28:31.694748",
   "environment_variables": {},
   "exception": null,
   "input_path": "__notebook__.ipynb",
   "output_path": "__notebook__.ipynb",
   "parameters": {},
   "start_time": "2021-04-18T12:25:24.317248",
   "version": "2.3.2"
  },
  "vscode": {
   "interpreter": {
    "hash": "8e3896f9403a7d2ca3a163bf2575661a7657fabf938b44bcadfd598a509c911d"
   }
  }
 },
 "nbformat": 4,
 "nbformat_minor": 5
}
